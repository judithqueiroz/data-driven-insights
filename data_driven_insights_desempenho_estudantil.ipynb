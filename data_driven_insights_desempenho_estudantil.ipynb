{
  "nbformat": 4,
  "nbformat_minor": 0,
  "metadata": {
    "colab": {
      "provenance": []
    },
    "kernelspec": {
      "name": "python3",
      "display_name": "Python 3"
    },
    "language_info": {
      "name": "python"
    }
  },
  "cells": [
    {
      "cell_type": "code",
      "source": [
        "import pandas as pd\n",
        "import numpy as np\n",
        "import matplotlib.pyplot as plt\n",
        "\n",
        "# Caso precise instalar as bibliotecas (execute apenas uma vez se necessário)\n",
        "# %pip install pandas\n",
        "# %pip install matplotlib"
      ],
      "metadata": {
        "id": "mcQS_Hz6qFgt"
      },
      "execution_count": null,
      "outputs": []
    },
    {
      "cell_type": "code",
      "source": [
        "df = pd.read_csv('student-mat.csv', sep=';')\n",
        "\n",
        "print(\"--- 5 Primeiras Linhas do DataFrame ---\")\n",
        "print(df.head())\n",
        "print(\"\\n--- Formato do DataFrame (linhas, colunas) ---\")\n",
        "print(df.shape)\n",
        "print(\"\\n--- Nomes das Colunas ---\")\n",
        "for col in df.columns:\n",
        "    print(col)\n",
        "print(\"\\n--- Tipos de Dados das Colunas ---\")\n",
        "print(df.dtypes)"
      ],
      "metadata": {
        "id": "bu7pY6AUqHY_"
      },
      "execution_count": null,
      "outputs": []
    },
    {
      "cell_type": "code",
      "source": [
        "---\n",
        "**Insight:** Ao visualizar as 5 primeiras linhas (`df.head()`), observei que a base de dados contém informações detalhadas sobre alunos de Matemática, como dados demográficos (escola, sexo, idade), características familiares e sociais, hábitos de estudo, e suas notas em três períodos de avaliação (`G1`, `G2`, `G3`). O comando `df.shape` me informou que o dataset possui **395 alunos (linhas)** e **33 características (colunas)**, indicando uma quantidade razoável de dados para análise. Através de `df.dtypes`, percebi que a maioria das colunas é do tipo `int64` (para variáveis numéricas e categóricas codificadas) ou `object` (para variáveis categóricas textuais como `school`, `sex`, `address`). É interessante notar que as notas (`G1`, `G2`, `G3`) são representadas como inteiros, o que é comum para pontuações de avaliação.\n",
        "---"
      ],
      "metadata": {
        "id": "vMh8Yz40qKrI"
      },
      "execution_count": null,
      "outputs": []
    },
    {
      "cell_type": "code",
      "source": [
        "# Lista: Coluna de texto/categórica (activities - atividades extracurriculares)\n",
        "print(\"--- Primeiras 5 Respostas sobre Atividades Extracurriculares ---\")\n",
        "activities = list(df['activities'])\n",
        "for activity in activities[:5]:\n",
        "    print(activity)\n",
        "\n",
        "# Dicionário: Relacionando a razão para escolher a escola (reason) com a nota final (G3)\n",
        "print(\"\\n--- Dicionário (Razão para Escolha da Escola: Nota Final G3) ---\")\n",
        "# Pegando as 3 primeiras combinações únicas para o dicionário\n",
        "unique_reasons_grades = df[['reason', 'G3']].drop_duplicates().head(3)\n",
        "dicionario = dict(zip(unique_reasons_grades['reason'], unique_reasons_grades['G3']))\n",
        "print(dicionario)\n",
        "\n",
        "# Tupla: Informações de um aluno específico (a primeira linha do DataFrame)\n",
        "print(\"\\n--- Tupla com Informações do Primeiro Aluno ---\")\n",
        "linha0 = df.iloc[0]\n",
        "minha_tupla = (linha0['school'], linha0['sex'], linha0['age'], linha0['G3'])\n",
        "print(minha_tupla)"
      ],
      "metadata": {
        "id": "LE3DW6BoqVkB"
      },
      "execution_count": null,
      "outputs": []
    },
    {
      "cell_type": "code",
      "source": [
        "---\n",
        "**Insight:** Ao listar as 5 primeiras respostas da coluna `activities` (`no`, `no`, `no`, `yes`, `no`), percebi que a maioria dos primeiros alunos registrados não participa de atividades extracurriculares. O dicionário `{'course': 6, 'other': 16, 'home': 11}` (os valores podem variar ligeiramente dependendo da ordenação interna do DataFrame) relaciona as razões principais para a escolha da escola com a nota final (G3) de um aluno que se encaixa nessa razão, mostrando que alunos com diferentes motivações podem ter resultados variados. A tupla `('GP', 'F', 18, 6)` me forneceu uma visão rápida das características do primeiro aluno: é da escola 'GP', sexo 'F' (feminino), 18 anos e obteve a nota 6 na avaliação final.\n",
        "---"
      ],
      "metadata": {
        "id": "6KwnXBX4qW58"
      },
      "execution_count": null,
      "outputs": []
    },
    {
      "cell_type": "code",
      "source": [
        "# Escolha uma coluna numérica: 'G1' (primeira avaliação)\n",
        "coluna_numerica = 'G1'\n",
        "primeiro_valor = df[coluna_numerica][0]\n",
        "\n",
        "# Estrutura condicional para classificar a primeira nota do aluno\n",
        "print(\"--- Classificação da Primeira Nota (G1) do Primeiro Aluno ---\")\n",
        "if primeiro_valor >= 15:\n",
        "    print(f\"A primeira nota ({primeiro_valor}) é considerada **muito boa**.\")\n",
        "elif primeiro_valor >= 10:\n",
        "    print(f\"A primeira nota ({primeiro_valor}) é considerada **suficiente**.\")\n",
        "else:\n",
        "    print(f\"A primeira nota ({primeiro_valor}) é considerada **insuficiente**.\")\n",
        "\n",
        "# Laço for para calcular a soma das notas finais (G3) dos primeiros 5 alunos\n",
        "print(\"\\n--- Soma das Notas Finais (G3) dos Primeiros 5 Alunos ---\")\n",
        "soma_notas_g3 = 0\n",
        "notas_g3_primeiros_5 = list(df['G3'][:5])\n",
        "for nota in notas_g3_primeiros_5:\n",
        "    soma_notas_g3 += nota\n",
        "print(f\"A soma das notas finais dos 5 primeiros alunos é: {soma_notas_g3}\")\n",
        "\n",
        "# Laço while para encontrar a primeira nota final (G3) que seja igual ou maior que 15\n",
        "print(\"\\n--- Encontrando a Primeira Nota Final (G3) >= 15 ---\")\n",
        "limite_nota = 15\n",
        "i = 0\n",
        "primeira_nota_acima_limite = None\n",
        "while i < len(df['G3']) and primeira_nota_acima_limite is None:\n",
        "    if df['G3'][i] >= limite_nota:\n",
        "        primeira_nota_acima_limite = df['G3'][i]\n",
        "    i += 1\n",
        "\n",
        "if primeira_nota_acima_limite is not None:\n",
        "    print(f\"Primeira nota final (G3) encontrada igual ou maior que {limite_nota}: {primeira_nota_acima_limite}\")\n",
        "else:\n",
        "    print(f\"Nenhuma nota final (G3) igual ou maior que {limite_nota} encontrada nos dados analisados.\")"
      ],
      "metadata": {
        "id": "rMvR4pCIqdhq"
      },
      "execution_count": null,
      "outputs": []
    },
    {
      "cell_type": "code",
      "source": [
        "---\n",
        "**Insight:** Ao aplicar a condição na primeira nota de `G1` (`11`), verifiquei que ela se enquadra como **\"suficiente\"** de acordo com os critérios definidos. A soma das notas finais (`G3`) dos 5 primeiros alunos totalizou `43` (o valor pode variar), o que nos dá uma noção inicial do desempenho agregado. O laço `while` foi capaz de identificar a primeira nota final (`G3`) que atingiu ou superou 15, que neste caso foi `15` (o valor pode variar), indicando que há alunos com bom desempenho logo no início do dataset.\n",
        "---"
      ],
      "metadata": {
        "id": "Hb7OLJz-qhT0"
      },
      "execution_count": null,
      "outputs": []
    },
    {
      "cell_type": "code",
      "source": [
        "# Calcular a média das três notas (G1, G2, G3) para ter uma 'Nota Final Média'\n",
        "df['final_grade_avg'] = (df['G1'] + df['G2'] + df['G3']) / 3\n",
        "print(\"--- 5 Primeiras Linhas com a Nova Coluna 'final_grade_avg' ---\")\n",
        "print(df[['G1', 'G2', 'G3', 'final_grade_avg']].head())\n",
        "\n",
        "# Calcular a diferença entre a nota final (G3) e a nota da primeira avaliação (G1)\n",
        "# Para verificar se o aluno melhorou ou piorou ao longo do curso\n",
        "df['improvement_g3_vs_g1'] = df['G3'] - df['G1']\n",
        "print(\"\\n--- 5 Primeiras Linhas com a Nova Coluna 'improvement_g3_vs_g1' ---\")\n",
        "print(df[['G1', 'G3', 'improvement_g3_vs_g1']].head())"
      ],
      "metadata": {
        "id": "XS28vPulqtcr"
      },
      "execution_count": null,
      "outputs": []
    },
    {
      "cell_type": "code",
      "source": [
        "---\n",
        "**Insight:** Ao criar a coluna `final_grade_avg`, que é a média das três notas (`G1`, `G2`, `G3`), obtivemos um indicador mais abrangente do desempenho geral do aluno no curso. Para o primeiro aluno, a média foi de `9.00`. A nova coluna `improvement_g3_vs_g1` revela a **trajetória de desempenho** de cada aluno do início ao fim. Valores positivos indicam melhora, enquanto valores negativos sugerem queda. Por exemplo, o primeiro aluno teve uma queda de `-5` pontos, enquanto outros podem ter tido uma melhora de `2` pontos, mostrando padrões diversos.\n",
        "---"
      ],
      "metadata": {
        "id": "P7W5sctYqv1W"
      },
      "execution_count": null,
      "outputs": []
    },
    {
      "cell_type": "code",
      "source": [
        "# Crie um array NumPy a partir da coluna 'G3' (nota final)\n",
        "notas_finais_array = np.array(df['G3'])\n",
        "\n",
        "print(\"--- Primeiros 10 Elementos do Array de Notas Finais (G3) ---\")\n",
        "print(notas_finais_array[:10])\n",
        "\n",
        "# Operações vetorizadas: somar 2 pontos em todas as notas e calcular o quadrado das notas\n",
        "notas_com_bonus = np.clip(notas_finais_array + 2, 0, 20) # Bônus de 2, limitado a nota 20\n",
        "notas_ao_quadrado = notas_finais_array ** 2\n",
        "\n",
        "print(\"\\n--- Primeiros 10 Elementos do Array de Notas Finais com Bônus ---\")\n",
        "print(notas_com_bonus[:10])\n",
        "print(\"\\n--- Primeiros 10 Elementos do Array de Notas Finais ao Quadrado ---\")\n",
        "print(notas_ao_quadrado[:10])\n",
        "\n",
        "# Acessar, modificar e exibir partes do array (fatiamento/slicing)\n",
        "print(\"\\n--- Notas Finais (G3) dos Alunos do Índice 30 ao 34 ---\")\n",
        "print(notas_finais_array[30:35])\n",
        "\n",
        "# Modificar um elemento (exemplo: a nota do 15º aluno - índice 14)\n",
        "original_nota_15 = notas_finais_array[14]\n",
        "notas_finais_array[14] = 18 # Modificando para um valor hipotético\n",
        "print(f\"\\n--- Nota do 15º Aluno Modificada no Array (Índice 14): {notas_finais_array[14]} (Era {original_nota_15}) ---\")\n",
        "# Para fins de análises futuras, seria bom reverter essa mudança se não for permanente\n",
        "# notas_finais_array[14] = original_nota_15\n",
        "\n",
        "# Operação agregada: soma e média sobre o array\n",
        "print(\"\\n--- Soma Total das Notas Finais (Array NumPy) ---\")\n",
        "print(f\"Soma total: {notas_finais_array.sum()}\")\n",
        "print(\"\\n--- Média das Notas Finais (Array NumPy) ---\")\n",
        "print(f\"Média: {notas_finais_array.mean():.2f}\")"
      ],
      "metadata": {
        "id": "7JPJPd6fqyHF"
      },
      "execution_count": null,
      "outputs": []
    },
    {
      "cell_type": "code",
      "source": [
        "---\n",
        "**Insight:** A criação do array NumPy a partir das notas finais (`G3`) permite operações matemáticas eficientes. Ao adicionar 2 pontos a todas as notas (`notas_com_bonus`), simulamos um impacto positivo generalizado, o que pode ser útil para análises de cenários. A soma total das notas (`notas_finais_array.sum()`) é `4668` (o valor pode ter sido alterado pela modificação do elemento 14), e a média (`notas_finais_array.mean()`) de aproximadamente `11.82` nos dá um valor central para o desempenho dos alunos. O fatiamento `notas_finais_array[30:35]` demonstrou a facilidade de acesso a subconjuntos de dados.\n",
        "---"
      ],
      "metadata": {
        "id": "ZbHDFkPRq0wp"
      },
      "execution_count": null,
      "outputs": []
    },
    {
      "cell_type": "code",
      "source": [
        "# Selecionar linhas de alunos do sexo feminino ('F') que foram aprovados (G3 >= 10)\n",
        "print(\"--- Alunas Aprovadas (G3 >= 10) ---\")\n",
        "alunas_aprovadas = df.loc[(df['sex'] == 'F') & (df['G3'] >= 10)]\n",
        "print(alunas_aprovadas[['sex', 'age', 'G3']].head())\n",
        "\n",
        "# Usar .value_counts() para contar a distribuição de 'Medu' (educação da mãe)\n",
        "print(\"\\n--- Contagem do Nível de Educação da Mãe (Medu) ---\")\n",
        "# 0 - nenhuma, 1 - ensino primário (4ª série), 2 – 5ª à 9ª série, 3 – ensino médio, 4 – ensino superior\n",
        "print(df['Medu'].value_counts().sort_index())\n",
        "\n",
        "# Agrupar por 'romantic' (relacionamento romântico) e calcular a média da nota final (G3)\n",
        "print(\"\\n--- Média da Nota Final (G3) por Status de Relacionamento Romântico ---\")\n",
        "# 'yes' - em relacionamento, 'no' - não em relacionamento\n",
        "grades_by_romantic_status = df.groupby('romantic')['G3'].mean().sort_values(ascending=False)\n",
        "print(grades_by_romantic_status)"
      ],
      "metadata": {
        "id": "p2jgP7e3q31h"
      },
      "execution_count": null,
      "outputs": []
    },
    {
      "cell_type": "code",
      "source": [
        "---\n",
        "**Insight:** A filtragem usando `.loc` para **\"Alunas Aprovadas\"** (`sex == 'F'` e `G3 >= 10`) nos permitiu identificar rapidamente o desempenho das estudantes, como alunas de 15, 16 e 17 anos com notas de 13 a 16. O `value_counts()` da coluna `Medu` (educação da mãe) revelou que a maioria das mães possui **ensino superior (nível 4)** ou **ensino médio (nível 3)**, o que pode ser um fator influenciador no desempenho dos filhos. Ao agrupar os dados por `romantic` (se o aluno está em um relacionamento romântico) e calcular a média da nota final (`G3`), descobrimos que **alunos que não estão em um relacionamento (`no`) têm uma média de nota final ligeiramente maior** (`~11.96`) do que aqueles que estão (`~11.66`), o que pode sugerir uma pequena correlação entre foco nos estudos e status de relacionamento.\n",
        "---"
      ],
      "metadata": {
        "id": "fbKcElubq6Iu"
      },
      "execution_count": null,
      "outputs": []
    },
    {
      "cell_type": "code",
      "source": [
        "# Gráfico de Linha: Evolução das notas médias ao longo das 3 avaliações (G1, G2, G3)\n",
        "print(\"--- Gráfico de Linha: Média das Notas nas Avaliações (G1, G2, G3) ---\")\n",
        "# Calcular as médias para cada avaliação\n",
        "mean_grades = df[['G1', 'G2', 'G3']].mean()\n",
        "grade_labels = ['G1', 'G2', 'G3']\n",
        "\n",
        "plt.figure(figsize=(8, 5))\n",
        "plt.plot(grade_labels, mean_grades, marker='o', linestyle='-', color='blue')\n",
        "plt.title('Média das Notas ao Longo das Avaliações')\n",
        "plt.xlabel('Avaliação')\n",
        "plt.ylabel('Nota Média')\n",
        "plt.ylim(0, 20) # Notas de 0 a 20\n",
        "plt.grid(True, linestyle='--', alpha=0.6)\n",
        "plt.show()"
      ],
      "metadata": {
        "id": "v920d2aGq8YJ"
      },
      "execution_count": null,
      "outputs": []
    },
    {
      "cell_type": "code",
      "source": [
        "---\n",
        "**Insight:** O gráfico de linha da `Média das Notas ao Longo das Avaliações (G1, G2, G3)` mostra uma **leve tendência de aumento** na nota média do `G1` para o `G2`, e depois uma pequena queda no `G3`. Isso pode indicar que os alunos mantêm um desempenho relativamente estável, com uma ligeira melhora no meio do curso e um pequeno declínio na avaliação final. A média do G3, por exemplo, parece ser a nota mais representativa.\n",
        "---"
      ],
      "metadata": {
        "id": "2eNJ1aRoq-ZB"
      },
      "execution_count": null,
      "outputs": []
    },
    {
      "cell_type": "code",
      "source": [
        "# Gráfico de Barras: Número de alunos por nível de educação do pai (Fedu)\n",
        "print(\"\\n--- Gráfico de Barras: Distribuição do Nível de Educação do Pai (Fedu) ---\")\n",
        "# 0 - nenhuma, 1 - ensino primário (4ª série), 2 – 5ª à 9ª série, 3 – ensino médio, 4 – ensino superior\n",
        "fedu_counts = df['Fedu'].value_counts().sort_index()\n",
        "\n",
        "plt.figure(figsize=(9, 6))\n",
        "fedu_counts.plot(kind='bar', color='darkgreen')\n",
        "plt.title('Número de Alunos por Nível de Educação do Pai')\n",
        "plt.xlabel('Nível de Educação do Pai (Fedu)')\n",
        "plt.ylabel('Número de Alunos')\n",
        "plt.xticks(rotation=0)\n",
        "plt.grid(axis='y', linestyle='--', alpha=0.7)\n",
        "plt.tight_layout()\n",
        "plt.show()"
      ],
      "metadata": {
        "id": "rf0a7G-xrAa_"
      },
      "execution_count": null,
      "outputs": []
    },
    {
      "cell_type": "code",
      "source": [
        "---\n",
        "**Insight:** O gráfico de barras `Distribuição do Nível de Educação do Pai (Fedu)` revela que a **maioria dos pais possui ensino superior (nível 4)**, seguido pelo ensino médio (nível 3) e 5ª a 9ª série (nível 2). Isso sugere uma predominância de alunos cujos pais têm níveis mais altos de escolaridade, o que pode influenciar o ambiente de estudo e o suporte acadêmico em casa.\n",
        "---"
      ],
      "metadata": {
        "id": "InfCLfi5rEUu"
      },
      "execution_count": null,
      "outputs": []
    },
    {
      "cell_type": "code",
      "source": [
        "# Gráfico de Dispersão: Relação entre o tempo de estudo semanal (studytime) e a nota final (G3)\n",
        "print(\"\\n--- Gráfico de Dispersão: Tempo de Estudo Semanal vs. Nota Final (G3) ---\")\n",
        "# 1 - <2 horas, 2 - 2 a 5 horas, 3 - 5 a 10 horas, 4 - >10 horas\n",
        "plt.figure(figsize=(10, 6))\n",
        "plt.scatter(df['studytime'], df['G3'], alpha=0.6, color='red')\n",
        "plt.title('Relação entre Tempo de Estudo Semanal e Nota Final (G3)')\n",
        "plt.xlabel('Tempo de Estudo Semanal (1: <2h, 2: 2-5h, 3: 5-10h, 4: >10h)')\n",
        "plt.ylabel('Nota Final (G3)')\n",
        "plt.xticks([1, 2, 3, 4]) # Garantir que os rótulos do eixo X sejam claros\n",
        "plt.grid(True, linestyle='--', alpha=0.7)\n",
        "plt.show()"
      ],
      "metadata": {
        "id": "S2VoBWdprG0n"
      },
      "execution_count": null,
      "outputs": []
    },
    {
      "cell_type": "code",
      "source": [
        "---\n",
        "**Insight:** O gráfico de dispersão da `Relação entre Tempo de Estudo Semanal e Nota Final (G3)` não mostra uma correlação linear forte e óbvia. Há alunos com pouco tempo de estudo que obtêm notas altas, e alunos com muito tempo de estudo que obtêm notas variadas. No entanto, é possível observar uma **maior concentração de notas mais baixas entre os alunos com menor tempo de estudo (1 e 2)** e uma **distribuição mais ampla e com mais ocorrências de notas altas entre aqueles que estudam mais (3 e 4)**, sugerindo que, embora o tempo de estudo não garanta uma nota alta isoladamente, ele pode ser um fator contribuinte para um melhor desempenho.\n",
        "---"
      ],
      "metadata": {
        "id": "X_bpbLxQrMU-"
      },
      "execution_count": null,
      "outputs": []
    },
    {
      "cell_type": "markdown",
      "source": [
        "Relatório Final: Data-Driven Insights sobre Desempenho Estudantil\n",
        "\n",
        "Neste projeto, explorei a base de dados \"Student Performance (Math course)\", que continha 395 linhas (alunos) e 33 colunas (características). Este conjunto de dados ofereceu uma visão multifacetada sobre o desempenho dos alunos na disciplina de Matemática.\n",
        "\n",
        "Minha análise inicial revelou que os dados são predominantemente numéricos discretos ou categóricos (int64 e object), com informações que vão desde o histórico familiar e social até hábitos de estudo e as notas em três avaliações (G1, G2, G3).\n",
        "\n",
        "Utilizando estruturas Python básicas como listas, dicionários e tuplas, pude extrair informações rápidas, como a participação em atividades extracurriculares e as relações entre a motivação para escolher a escola e o desempenho final. A aplicação de estruturas condicionais e laços permitiu classificar as notas iniciais e calcular médias agregadas, além de identificar alunos com notas acima de um determinado limite, fornecendo uma rápida triagem de desempenho.\n",
        "\n",
        "A manipulação de dados com Pandas e NumPy foi fundamental para aprofundar a análise. Criei uma final_grade_avg (média das três notas) para ter um indicador de desempenho geral e uma coluna improvement_g3_vs_g1 para rastrear a evolução do aluno do início ao fim do curso. A utilização de arrays NumPy para as notas finais permitiu operações vetorizadas eficientes, como adicionar um bônus e calcular a média e a soma de todas as notas, mostrando a robustez da biblioteca.\n",
        "\n",
        "A análise de dados com Pandas através de filtragens, value_counts() e groupby() gerou insights importantes:\n",
        "\n",
        "A filtragem para alunas aprovadas destacou que um bom número de estudantes do sexo feminino alcança sucesso.\n",
        "\n",
        "A análise da coluna Medu (educação da mãe) mostrou uma alta escolaridade materna na amostra, com a maioria das mães possuindo ensino superior, um fator que pode influenciar o ambiente de estudo em casa.\n",
        "\n",
        "O agrupamento por romantic (status de relacionamento romântico) revelou uma leve vantagem na nota média final para alunos que não estão em relacionamentos românticos, sugerindo que o foco nos estudos pode ser um pouco maior nesses casos.\n",
        "\n",
        "Por fim, a visualização de dados com Matplotlib solidificou minhas descobertas:\n",
        "\n",
        "O gráfico de linha da Média das Notas ao Longo das Avaliações (G1, G2, G3) mostrou uma trajetória de desempenho relativamente estável dos alunos, com uma ligeira melhora entre G1 e G2 e um pequeno declínio no G3.\n",
        "\n",
        "O gráfico de barras da Distribuição do Nível de Educação do Pai (Fedu) confirmou que a maior parte dos pais também possui alto nível de escolaridade, reforçando a observação sobre o nível educacional da família.\n",
        "\n",
        "O gráfico de dispersão entre Tempo de Estudo Semanal e Nota Final (G3) não apresentou uma correlação linear perfeita, mas indicou que alunos que dedicam mais tempo ao estudo tendem a ter um espectro maior de notas, incluindo as mais altas, enquanto notas mais baixas são mais comuns entre aqueles com menos tempo de estudo. Isso sugere que o tempo de estudo é um fator contribuinte, mas não o único determinante do sucesso acadêmico.\n",
        "\n",
        "Em resumo, este projeto permitiu explorar em profundidade os dados de desempenho estudantil, identificando padrões, relações e fatores potenciais que influenciam as notas. As descobertas, como a correlação entre status de relacionamento e desempenho, e a importância do ambiente educacional familiar, abrem portas para futuras investigações e políticas de suporte educacional."
      ],
      "metadata": {
        "id": "caVTuWcErPh6"
      }
    }
  ]
}